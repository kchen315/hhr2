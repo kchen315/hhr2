{
 "cells": [
  {
   "cell_type": "code",
   "execution_count": 1,
   "metadata": {},
   "outputs": [],
   "source": [
    "import pandas as pd\n",
    "import numpy as np"
   ]
  },
  {
   "cell_type": "code",
   "execution_count": 2,
   "metadata": {},
   "outputs": [
    {
     "data": {
      "text/html": [
       "<div>\n",
       "<style scoped>\n",
       "    .dataframe tbody tr th:only-of-type {\n",
       "        vertical-align: middle;\n",
       "    }\n",
       "\n",
       "    .dataframe tbody tr th {\n",
       "        vertical-align: top;\n",
       "    }\n",
       "\n",
       "    .dataframe thead th {\n",
       "        text-align: right;\n",
       "    }\n",
       "</style>\n",
       "<table border=\"1\" class=\"dataframe\">\n",
       "  <thead>\n",
       "    <tr style=\"text-align: right;\">\n",
       "      <th></th>\n",
       "      <th>vid_id</th>\n",
       "      <th>phase</th>\n",
       "      <th>time_start</th>\n",
       "      <th>time_end</th>\n",
       "      <th>labeler</th>\n",
       "      <th>labeler_2</th>\n",
       "      <th>notes</th>\n",
       "    </tr>\n",
       "  </thead>\n",
       "  <tbody>\n",
       "    <tr>\n",
       "      <th>0</th>\n",
       "      <td>vid_0</td>\n",
       "      <td>oob</td>\n",
       "      <td>00H:00m:00s</td>\n",
       "      <td>00H:03m:18s</td>\n",
       "      <td>kc</td>\n",
       "      <td>NaN</td>\n",
       "      <td>NaN</td>\n",
       "    </tr>\n",
       "    <tr>\n",
       "      <th>1</th>\n",
       "      <td>vid_0</td>\n",
       "      <td>exposure</td>\n",
       "      <td>00H:03m:18s</td>\n",
       "      <td>00H:08m:44s</td>\n",
       "      <td>kc</td>\n",
       "      <td>NaN</td>\n",
       "      <td>NaN</td>\n",
       "    </tr>\n",
       "    <tr>\n",
       "      <th>2</th>\n",
       "      <td>vid_0</td>\n",
       "      <td>hiatal_dissec</td>\n",
       "      <td>00H:08m:45s</td>\n",
       "      <td>00H:16m:41s</td>\n",
       "      <td>kc</td>\n",
       "      <td>NaN</td>\n",
       "      <td>opening of lesser sac at 00H:12m:38s</td>\n",
       "    </tr>\n",
       "    <tr>\n",
       "      <th>3</th>\n",
       "      <td>vid_0</td>\n",
       "      <td>eso_mob</td>\n",
       "      <td>00H:16m:42s</td>\n",
       "      <td>00H:18m:21s</td>\n",
       "      <td>kc</td>\n",
       "      <td>NaN</td>\n",
       "      <td>NaN</td>\n",
       "    </tr>\n",
       "    <tr>\n",
       "      <th>4</th>\n",
       "      <td>vid_0</td>\n",
       "      <td>hiatal_dissec</td>\n",
       "      <td>00H:18m:22s</td>\n",
       "      <td>00H:19m:04s</td>\n",
       "      <td>kc</td>\n",
       "      <td>NaN</td>\n",
       "      <td>NaN</td>\n",
       "    </tr>\n",
       "  </tbody>\n",
       "</table>\n",
       "</div>"
      ],
      "text/plain": [
       "  vid_id          phase   time_start     time_end labeler labeler_2   \n",
       "0  vid_0            oob  00H:00m:00s  00H:03m:18s      kc       NaN  \\\n",
       "1  vid_0       exposure  00H:03m:18s  00H:08m:44s      kc       NaN   \n",
       "2  vid_0  hiatal_dissec  00H:08m:45s  00H:16m:41s      kc       NaN   \n",
       "3  vid_0        eso_mob  00H:16m:42s  00H:18m:21s      kc       NaN   \n",
       "4  vid_0  hiatal_dissec  00H:18m:22s  00H:19m:04s      kc       NaN   \n",
       "\n",
       "                                  notes  \n",
       "0                                   NaN  \n",
       "1                                   NaN  \n",
       "2  opening of lesser sac at 00H:12m:38s  \n",
       "3                                   NaN  \n",
       "4                                   NaN  "
      ]
     },
     "execution_count": 2,
     "metadata": {},
     "output_type": "execute_result"
    }
   ],
   "source": [
    "phases = pd.read_excel('phases.xlsx')\n",
    "phases.head()"
   ]
  },
  {
   "cell_type": "code",
   "execution_count": 3,
   "metadata": {},
   "outputs": [
    {
     "data": {
      "text/plain": [
       "['kc', 'sp', 'AB', 'ck', 'mm', 'anoosh', 'ck ']"
      ]
     },
     "execution_count": 3,
     "metadata": {},
     "output_type": "execute_result"
    }
   ],
   "source": [
    "#get unique values of 'vid_id' for each value in 'labeler'\n",
    "labelers = list(phases['labeler'].unique())\n",
    "labelers\n"
   ]
  },
  {
   "cell_type": "code",
   "execution_count": 4,
   "metadata": {},
   "outputs": [
    {
     "data": {
      "text/plain": [
       "\"['vid_0', 'vid_1', 'vid_11', 'vid_12', 'vid_3', 'vid_4', 'vid_5', 'vid_6', 'vid_7', 'yale_0', 'yale_3']\""
      ]
     },
     "execution_count": 4,
     "metadata": {},
     "output_type": "execute_result"
    }
   ],
   "source": [
    "vids = list(phases.loc[phases['labeler'] == 'kc', 'vid_id'].unique())\n",
    "vids.sort()\n",
    "vids = str(vids)\n",
    "vids"
   ]
  },
  {
   "cell_type": "code",
   "execution_count": 5,
   "metadata": {},
   "outputs": [
    {
     "data": {
      "text/plain": [
       "32"
      ]
     },
     "execution_count": 5,
     "metadata": {},
     "output_type": "execute_result"
    }
   ],
   "source": [
    "all_vids = list(phases['vid_id'].unique())\n",
    "len(all_vids)"
   ]
  },
  {
   "cell_type": "code",
   "execution_count": 6,
   "metadata": {},
   "outputs": [],
   "source": [
    "labeler_df = pd.DataFrame(labelers, columns=['labeler'])\n",
    "labeler_df['videos'] = np.nan\n",
    "for labeler in labelers:\n",
    "    vids = list(phases.loc[phases['labeler'] == labeler, 'vid_id'].unique())\n",
    "    vids.sort()\n",
    "    labeler_df.loc[labeler_df['labeler'] == labeler, 'videos'] = str(vids)"
   ]
  },
  {
   "cell_type": "code",
   "execution_count": 7,
   "metadata": {},
   "outputs": [
    {
     "data": {
      "text/html": [
       "<div>\n",
       "<style scoped>\n",
       "    .dataframe tbody tr th:only-of-type {\n",
       "        vertical-align: middle;\n",
       "    }\n",
       "\n",
       "    .dataframe tbody tr th {\n",
       "        vertical-align: top;\n",
       "    }\n",
       "\n",
       "    .dataframe thead th {\n",
       "        text-align: right;\n",
       "    }\n",
       "</style>\n",
       "<table border=\"1\" class=\"dataframe\">\n",
       "  <thead>\n",
       "    <tr style=\"text-align: right;\">\n",
       "      <th></th>\n",
       "      <th>labeler</th>\n",
       "      <th>videos</th>\n",
       "    </tr>\n",
       "  </thead>\n",
       "  <tbody>\n",
       "    <tr>\n",
       "      <th>0</th>\n",
       "      <td>kc</td>\n",
       "      <td>['vid_0', 'vid_1', 'vid_11', 'vid_12', 'vid_3'...</td>\n",
       "    </tr>\n",
       "    <tr>\n",
       "      <th>1</th>\n",
       "      <td>sp</td>\n",
       "      <td>['vid_13', 'vid_14', 'vid_15', 'vid_16', 'vid_...</td>\n",
       "    </tr>\n",
       "    <tr>\n",
       "      <th>2</th>\n",
       "      <td>AB</td>\n",
       "      <td>['vid_17', 'vid_18', 'vid_19', 'vid_20', 'vid_4']</td>\n",
       "    </tr>\n",
       "    <tr>\n",
       "      <th>3</th>\n",
       "      <td>ck</td>\n",
       "      <td>['vid_21', 'vid_22', 'vid_23', 'vid_24', 'vid_...</td>\n",
       "    </tr>\n",
       "    <tr>\n",
       "      <th>4</th>\n",
       "      <td>mm</td>\n",
       "      <td>['vid_4']</td>\n",
       "    </tr>\n",
       "    <tr>\n",
       "      <th>5</th>\n",
       "      <td>anoosh</td>\n",
       "      <td>['vid_4']</td>\n",
       "    </tr>\n",
       "  </tbody>\n",
       "</table>\n",
       "</div>"
      ],
      "text/plain": [
       "  labeler                                             videos\n",
       "0      kc  ['vid_0', 'vid_1', 'vid_11', 'vid_12', 'vid_3'...\n",
       "1      sp  ['vid_13', 'vid_14', 'vid_15', 'vid_16', 'vid_...\n",
       "2      AB  ['vid_17', 'vid_18', 'vid_19', 'vid_20', 'vid_4']\n",
       "3      ck  ['vid_21', 'vid_22', 'vid_23', 'vid_24', 'vid_...\n",
       "4      mm                                          ['vid_4']\n",
       "5  anoosh                                          ['vid_4']"
      ]
     },
     "execution_count": 7,
     "metadata": {},
     "output_type": "execute_result"
    }
   ],
   "source": [
    "labeler_df.head(6)"
   ]
  },
  {
   "cell_type": "code",
   "execution_count": null,
   "metadata": {},
   "outputs": [],
   "source": []
  }
 ],
 "metadata": {
  "kernelspec": {
   "display_name": "Python 3",
   "language": "python",
   "name": "python3"
  },
  "language_info": {
   "codemirror_mode": {
    "name": "ipython",
    "version": 3
   },
   "file_extension": ".py",
   "mimetype": "text/x-python",
   "name": "python",
   "nbconvert_exporter": "python",
   "pygments_lexer": "ipython3",
   "version": "3.10.6"
  },
  "orig_nbformat": 4
 },
 "nbformat": 4,
 "nbformat_minor": 2
}
